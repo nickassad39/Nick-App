{
 "cells": [
  {
   "cell_type": "code",
   "execution_count": 1,
   "metadata": {},
   "outputs": [],
   "source": [
    "import pandas as pd\n",
    "import numpy as np\n",
    "from sklearn.pipeline import make_pipeline\n",
    "from sklearn.tree import DecisionTreeRegressor\n",
    "import category_encoders as ce"
   ]
  },
  {
   "cell_type": "code",
   "execution_count": 3,
   "metadata": {},
   "outputs": [],
   "source": [
    "df = pd.read_csv(r\"https://raw.githubusercontent.com/JonathanBechtel/dat-master/main/Data/Unit2/restaurant_data/master.csv?token=AADVTID37SY7Y7UBG24DT2DB2YIYG\", parse_dates = ['visit_date'])"
   ]
  },
  {
   "cell_type": "code",
   "execution_count": 27,
   "metadata": {},
   "outputs": [
    {
     "name": "stderr",
     "output_type": "stream",
     "text": [
      "<ipython-input-27-d8ff862afb65>:1: DeprecationWarning: `np.object` is a deprecated alias for the builtin `object`. To silence this warning, use `object` by itself. Doing this will not modify any behavior and is safe. \n",
      "Deprecated in NumPy 1.20; for more details and guidance: https://numpy.org/devdocs/release/1.20.0-notes.html#deprecations\n",
      "  df.select_dtypes(include = np.object).columns.tolist()\n"
     ]
    },
    {
     "data": {
      "text/plain": [
       "['id', 'calendar_date', 'day_of_week', 'genre', 'area']"
      ]
     },
     "execution_count": 27,
     "metadata": {},
     "output_type": "execute_result"
    }
   ],
   "source": [
    "df.select_dtypes(include = np.object).columns.tolist()"
   ]
  },
  {
   "cell_type": "code",
   "execution_count": 9,
   "metadata": {},
   "outputs": [],
   "source": [
    "df['yesterday'] = df.groupby('id').apply(lambda x: x['visitors'].shift()).values\n",
    "df['last_week'] = df.groupby('id').apply(lambda x: x['visitors'].shift(7)).values\n",
    "\n",
    "# fill in missing reservations\n",
    "df['reserve_visitors'] = df['reserve_visitors'].fillna(0)\n",
    "\n",
    "# drop missing values from shifts\n",
    "df = df.dropna()"
   ]
  },
  {
   "cell_type": "code",
   "execution_count": 10,
   "metadata": {},
   "outputs": [],
   "source": [
    "X = df[['id', 'yesterday', 'last_week', 'reserve_visitors', 'day_of_week', 'holiday', 'area']]\n",
    "y = df['visitors']"
   ]
  },
  {
   "cell_type": "code",
   "execution_count": 15,
   "metadata": {},
   "outputs": [],
   "source": [
    "# let's assume these were our optimized parameters\n",
    "tree = DecisionTreeRegressor(max_depth = 7, max_features = 0.8, min_samples_leaf = 10)\n",
    "\n",
    "pipe = make_pipeline(ce.TargetEncoder(), tree)"
   ]
  },
  {
   "cell_type": "code",
   "execution_count": 16,
   "metadata": {},
   "outputs": [
    {
     "name": "stderr",
     "output_type": "stream",
     "text": [
      "C:\\Users\\Jonat\\anaconda3\\lib\\site-packages\\category_encoders\\utils.py:21: FutureWarning: is_categorical is deprecated and will be removed in a future version.  Use is_categorical_dtype instead\n",
      "  elif pd.api.types.is_categorical(cols):\n"
     ]
    },
    {
     "data": {
      "text/plain": [
       "Pipeline(steps=[('targetencoder',\n",
       "                 TargetEncoder(cols=['id', 'day_of_week', 'area'])),\n",
       "                ('decisiontreeregressor',\n",
       "                 DecisionTreeRegressor(max_depth=7, max_features=0.8,\n",
       "                                       min_samples_leaf=10))])"
      ]
     },
     "execution_count": 16,
     "metadata": {},
     "output_type": "execute_result"
    }
   ],
   "source": [
    "# fit the tree, and export it\n",
    "pipe.fit(X, y)"
   ]
  },
  {
   "cell_type": "code",
   "execution_count": 19,
   "metadata": {},
   "outputs": [],
   "source": [
    "# the pickle module allows you to export saved models\n",
    "import pickle\n",
    "\n",
    "# rb -- WRITE the file in BYTES\n",
    "with open('pipe.pkl', 'wb') as export:\n",
    "    # this creates an external version of the file that we can now import later on\n",
    "    pickle.dump(pipe, export)"
   ]
  },
  {
   "cell_type": "code",
   "execution_count": 22,
   "metadata": {},
   "outputs": [],
   "source": [
    "# we can now import this, and re-use it on new data:  very handy\n",
    "\n",
    "with open('pipe.pkl', 'rb') as import_:\n",
    "    # this will import the pickled object again\n",
    "    pipe2 = pickle.load(import_)"
   ]
  },
  {
   "cell_type": "code",
   "execution_count": 23,
   "metadata": {},
   "outputs": [
    {
     "data": {
      "text/plain": [
       "Pipeline(steps=[('targetencoder',\n",
       "                 TargetEncoder(cols=['id', 'day_of_week', 'area'])),\n",
       "                ('decisiontreeregressor',\n",
       "                 DecisionTreeRegressor(max_depth=7, max_features=0.8,\n",
       "                                       min_samples_leaf=10))])"
      ]
     },
     "execution_count": 23,
     "metadata": {},
     "output_type": "execute_result"
    }
   ],
   "source": [
    "# here it is\n",
    "pipe2"
   ]
  },
  {
   "cell_type": "code",
   "execution_count": 24,
   "metadata": {},
   "outputs": [
    {
     "data": {
      "text/plain": [
       "array([20.37353298, 24.71952428, 33.478     , ..., 57.2569198 ,\n",
       "       41.83112497, 57.2569198 ])"
      ]
     },
     "execution_count": 24,
     "metadata": {},
     "output_type": "execute_result"
    }
   ],
   "source": [
    "# and we can use it to make new predictions\n",
    "pipe2.predict(X)"
   ]
  },
  {
   "cell_type": "code",
   "execution_count": null,
   "metadata": {},
   "outputs": [],
   "source": []
  }
 ],
 "metadata": {
  "kernelspec": {
   "display_name": "Python 3",
   "language": "python",
   "name": "python3"
  },
  "language_info": {
   "codemirror_mode": {
    "name": "ipython",
    "version": 3
   },
   "file_extension": ".py",
   "mimetype": "text/x-python",
   "name": "python",
   "nbconvert_exporter": "python",
   "pygments_lexer": "ipython3",
   "version": "3.8.5"
  }
 },
 "nbformat": 4,
 "nbformat_minor": 4
}
